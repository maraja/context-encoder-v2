{
 "cells": [
  {
   "cell_type": "code",
   "execution_count": 4,
   "metadata": {},
   "outputs": [],
   "source": [
    "%load_ext autoreload\n",
    "%autoreload 2"
   ]
  },
  {
   "cell_type": "code",
   "execution_count": 5,
   "metadata": {},
   "outputs": [],
   "source": [
    "import sys\n",
    "sys.path.append('../')\n",
    "from src.dataset.distilbert import DistilBERTDataset"
   ]
  },
  {
   "cell_type": "code",
   "execution_count": 6,
   "metadata": {},
   "outputs": [],
   "source": [
    "from wiki_db import WikiDB\n",
    "from clinical_db import ClinicalDB\n",
    "from fiction_db import FictionDB\n",
    "import numpy as np"
   ]
  },
  {
   "cell_type": "code",
   "execution_count": 17,
   "metadata": {},
   "outputs": [],
   "source": [
    "max_segment_length = 300\n",
    "data_augmentation = False\n",
    "augment_with_target_sent_duplication = False\n",
    "dataset_type = \"fiction\"\n",
    "max_seq_length = 1024\n",
    "pct_data = 1\n",
    "random = False"
   ]
  },
  {
   "cell_type": "code",
   "execution_count": 18,
   "metadata": {},
   "outputs": [],
   "source": [
    "dataset_preprocessor = DistilBERTDataset(data_path=\"../data/data_{}_array.pkl\".format(dataset_type),\n",
    "                                         dataset_slice=\"training\",\n",
    "                                         dataset_type=dataset_type,\n",
    "                                        pct_data=pct_data, \n",
    "                                        random=random, \n",
    "                                        augment=data_augmentation,\n",
    "                                        max_seq_length=max_seq_length,\n",
    "                                        augment_with_target_sent_duplication=augment_with_target_sent_duplication,\n",
    "                                        max_segment_length=max_segment_length)"
   ]
  },
  {
   "cell_type": "code",
   "execution_count": 19,
   "metadata": {},
   "outputs": [],
   "source": [
    "sentence_segments, label_segments = dataset_preprocessor.get_segments()"
   ]
  },
  {
   "cell_type": "markdown",
   "metadata": {},
   "source": [
    "## Begin Insertion"
   ]
  },
  {
   "cell_type": "code",
   "execution_count": 20,
   "metadata": {},
   "outputs": [],
   "source": [
    "db = FictionDB('./fiction.db')"
   ]
  },
  {
   "cell_type": "code",
   "execution_count": 21,
   "metadata": {},
   "outputs": [],
   "source": [
    "for segment in sentence_segments:\n",
    "    db.create_segment(segment)"
   ]
  },
  {
   "cell_type": "code",
   "execution_count": null,
   "metadata": {},
   "outputs": [],
   "source": []
  }
 ],
 "metadata": {
  "kernelspec": {
   "display_name": "Python [conda env:tf_gpu] *",
   "language": "python",
   "name": "conda-env-tf_gpu-py"
  },
  "language_info": {
   "codemirror_mode": {
    "name": "ipython",
    "version": 3
   },
   "file_extension": ".py",
   "mimetype": "text/x-python",
   "name": "python",
   "nbconvert_exporter": "python",
   "pygments_lexer": "ipython3",
   "version": "3.7.4"
  }
 },
 "nbformat": 4,
 "nbformat_minor": 4
}
