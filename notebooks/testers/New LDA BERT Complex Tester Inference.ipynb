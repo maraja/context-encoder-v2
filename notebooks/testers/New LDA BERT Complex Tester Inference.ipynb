{
 "cells": [
  {
   "cell_type": "code",
   "execution_count": 1,
   "id": "3b816077",
   "metadata": {},
   "outputs": [],
   "source": [
    "%load_ext autoreload\n",
    "%autoreload 2"
   ]
  },
  {
   "cell_type": "code",
   "execution_count": null,
   "id": "86e50641",
   "metadata": {},
   "outputs": [],
   "source": []
  },
  {
   "cell_type": "code",
   "execution_count": 2,
   "id": "eb492ea3",
   "metadata": {},
   "outputs": [],
   "source": [
    "import sys, os\n",
    "import config\n",
    "\n",
    "config.root_path = os.path.abspath(os.path.join(os.getcwd(), '..', '..'))\n",
    "sys.path.insert(0, config.root_path)"
   ]
  },
  {
   "cell_type": "code",
   "execution_count": 3,
   "id": "811f4ff7",
   "metadata": {},
   "outputs": [],
   "source": [
    "import tensorflow as tf\n",
    "\n",
    "from tensorflow.python import keras\n",
    "import json\n",
    "import pandas as pd\n",
    "import numpy as np\n",
    "import os\n",
    "\n",
    "from src.encoders.context_encoder_ldabert_2 import ContextEncoderComplex\n",
    "from src.dataset.ldabert_2 import LDABERT2Dataset\n",
    "import transformers\n",
    "import sentence_transformers\n",
    "\n",
    "from utils.metrics import windowdiff, pk"
   ]
  },
  {
   "cell_type": "code",
   "execution_count": 4,
   "id": "75ccd56f",
   "metadata": {},
   "outputs": [
    {
     "data": {
      "text/plain": [
       "('2.5.0', '4.3.3', '0.4.1')"
      ]
     },
     "execution_count": 4,
     "metadata": {},
     "output_type": "execute_result"
    }
   ],
   "source": [
    "tf.__version__, transformers.__version__, sentence_transformers.__version__"
   ]
  },
  {
   "cell_type": "markdown",
   "id": "7808d62a",
   "metadata": {},
   "source": [
    "## LDA BERT 2 Dataset"
   ]
  },
  {
   "cell_type": "code",
   "execution_count": null,
   "id": "03d85d18",
   "metadata": {},
   "outputs": [],
   "source": []
  },
  {
   "cell_type": "code",
   "execution_count": 7,
   "id": "d5c1fdb1",
   "metadata": {},
   "outputs": [
    {
     "name": "stdout",
     "output_type": "stream",
     "text": [
      "something went wrong [Errno 2] No such file or directory: 'C:\\\\Users\\\\Computer\\\\Google Drive\\\\SCHOOL\\\\PhD\\\\Code\\\\context-encoder-v2\\\\data\\\\lda_bert_2\\\\generated_vectors\\\\test\\\\clinical\\\\0.05_0.pkl'\n",
      "root path C:\\Users\\Computer\\Google Drive\\SCHOOL\\PhD\\Code\\context-encoder-v2\n",
      "Preprocessing raw texts ...\n",
      "sentences length 1420\n",
      "Preprocessing raw texts. Done!\n",
      "lda sentences length 1420\n",
      "Getting vector representations for LDA ...\n",
      "Getting vector representations for LDA. Done!\n",
      "saving vectors... 1420 1420 1420\n"
     ]
    }
   ],
   "source": [
    "dataset_type = \"clinical\"\n",
    "dataset = LDABERT2Dataset(dataset_type=dataset_type,\n",
    "                           pct_data=0.05,\n",
    "                          max_seq_length=128,\n",
    "                           max_segment_length=300,\n",
    "                           augment_pct=0)\n",
    "\n",
    "sentences, tokenized_sentences, labels = dataset.process()\n",
    "\n",
    "# vectors_path = '../data/clinical_vectors/lda_bert_{}_{}.pkl'.format(dataset_type, len(sentences))\n",
    "vectors_filename = '{}_{}.pkl'.format(dataset.pct_data, dataset.augment_pct)\n",
    "\n",
    "saved_vectors, saved_tokens, saved_labels, saved_tokenized_sentences = dataset.get_saved_vectors(\"test\", dataset.dataset_type, vectors_filename)\n",
    "\n",
    "if len(saved_vectors) == 0:\n",
    "    saved_vectors, saved_tokens, saved_labels, saved_tokenized_sentences = dataset.create_vectors(\"test\", dataset.dataset_type, vectors_filename)"
   ]
  },
  {
   "cell_type": "code",
   "execution_count": 8,
   "id": "2695309e",
   "metadata": {},
   "outputs": [],
   "source": [
    "left_input, mid_input, right_input = dataset.format_sentences_tri_input_plus(saved_tokenized_sentences)"
   ]
  },
  {
   "cell_type": "code",
   "execution_count": 9,
   "id": "d241f512",
   "metadata": {},
   "outputs": [],
   "source": [
    "lda_left_input, lda_mid_input, lda_right_input = dataset.format_sentences_tri_input(saved_vectors)"
   ]
  },
  {
   "cell_type": "code",
   "execution_count": 10,
   "id": "440e8a82",
   "metadata": {},
   "outputs": [
    {
     "data": {
      "text/plain": [
       "(TensorShape([1420, 93]), (1420, 12))"
      ]
     },
     "execution_count": 10,
     "metadata": {},
     "output_type": "execute_result"
    }
   ],
   "source": [
    "saved_tokenized_sentences['input_ids'].shape, saved_vectors.shape"
   ]
  },
  {
   "cell_type": "code",
   "execution_count": null,
   "id": "baf1e5c0",
   "metadata": {},
   "outputs": [],
   "source": []
  },
  {
   "cell_type": "code",
   "execution_count": null,
   "id": "a0b6ef0f",
   "metadata": {},
   "outputs": [],
   "source": []
  },
  {
   "cell_type": "code",
   "execution_count": null,
   "id": "f82ba592",
   "metadata": {},
   "outputs": [],
   "source": []
  },
  {
   "cell_type": "markdown",
   "id": "7bcd5721",
   "metadata": {},
   "source": [
    "## Model"
   ]
  },
  {
   "cell_type": "code",
   "execution_count": 11,
   "id": "d68092d4",
   "metadata": {},
   "outputs": [
    {
     "name": "stderr",
     "output_type": "stream",
     "text": [
      "Some weights of the PyTorch model were not used when initializing the TF 2.0 model TFBertModel: ['embeddings.position_ids']\n",
      "- This IS expected if you are initializing TFBertModel from a PyTorch model trained on another task or with another architecture (e.g. initializing a TFBertForSequenceClassification model from a BertForPreTraining model).\n",
      "- This IS NOT expected if you are initializing TFBertModel from a PyTorch model that you expect to be exactly identical (e.g. initializing a TFBertForSequenceClassification model from a BertForSequenceClassification model).\n",
      "All the weights of TFBertModel were initialized from the PyTorch model.\n",
      "If your task is similar to the task the model of the checkpoint was trained on, you can already use TFBertModel for predictions without further training.\n"
     ]
    }
   ],
   "source": [
    "model = ContextEncoderComplex(final_dropout=0.5,\n",
    "                            dense_neurons=64,\n",
    "                                  lstm_size=256,\n",
    "                             lstm_dropout_percentage=0.5,\n",
    "                             cnn_filters=8,\n",
    "                             cnn_kernel_size=3,\n",
    "                             pool_size=2,\n",
    "                          gamma=15,\n",
    "                          max_sentence_length=128,\n",
    "                           bert_trainable=False)"
   ]
  },
  {
   "cell_type": "code",
   "execution_count": null,
   "id": "14939ec4",
   "metadata": {},
   "outputs": [],
   "source": []
  },
  {
   "cell_type": "code",
   "execution_count": 12,
   "id": "b0d0170c",
   "metadata": {},
   "outputs": [],
   "source": [
    "checkpoint_filepath = '../models/LDABERT2/complex/clinical-15051-1-pct-1-aug_y4JEB/no-finetune/checkpoint.ckpt'"
   ]
  },
  {
   "cell_type": "code",
   "execution_count": 13,
   "id": "7fb95835",
   "metadata": {},
   "outputs": [
    {
     "data": {
      "text/plain": [
       "<tensorflow.python.training.tracking.util.CheckpointLoadStatus at 0x26bbb7872b0>"
      ]
     },
     "execution_count": 13,
     "metadata": {},
     "output_type": "execute_result"
    }
   ],
   "source": [
    "# try:\n",
    "model.load_weights(checkpoint_filepath)\n",
    "# except:\n",
    "#     print(\"No checkpoint available.\")"
   ]
  },
  {
   "cell_type": "code",
   "execution_count": null,
   "id": "323dd2ea",
   "metadata": {},
   "outputs": [],
   "source": []
  },
  {
   "cell_type": "code",
   "execution_count": null,
   "id": "8189dbed",
   "metadata": {},
   "outputs": [],
   "source": []
  },
  {
   "cell_type": "markdown",
   "id": "729af8cb",
   "metadata": {},
   "source": [
    "## Inference"
   ]
  },
  {
   "cell_type": "code",
   "execution_count": null,
   "id": "e52b7f43",
   "metadata": {},
   "outputs": [
    {
     "name": "stdout",
     "output_type": "stream",
     "text": [
      "0 30\n",
      "30\n"
     ]
    }
   ],
   "source": [
    "slice_size = 30\n",
    "\n",
    "for i in range(0, saved_vectors.shape[0]//slice_size):\n",
    "    start = i*slice_size\n",
    "    end = start + slice_size\n",
    "    print(start, end)\n",
    "    print(len(saved_tokenized_sentences[start:end]))\n",
    "    \n",
    "    left_input, mid_input, right_input = dataset.format_sentences_tri_input_plus(saved_tokenized_sentences)\n",
    "    lda_left_input, lda_mid_input, lda_right_input = dataset.format_sentences_tri_input(saved_vectors[start:end])\n",
    "    \n",
    "    logits = model([\n",
    "        left_input, \n",
    "        mid_input, \n",
    "        right_input, \n",
    "        lda_left_input, \n",
    "        lda_mid_input, \n",
    "        lda_right_input\n",
    "    ])\n",
    "\n",
    "    logits_flattened = [float(p) for p in logits]\n",
    "\n",
    "    predictions = [1 if float(logit) >= 0.5 else 0 for logit in logits_flattened]\n",
    "\n",
    "\n",
    "    for i in range(1, 21):\n",
    "        string_predictions = \"\".join([str(i) for i in predictions])\n",
    "        string_ground_truth = \"\".join([str(i) for i in saved_labels])\n",
    "        overall_windowdiff = windowdiff(string_predictions, string_ground_truth, i)\n",
    "        overall_pk = pk(string_predictions, string_ground_truth, i)\n",
    "\n",
    "        print(\"{},{},{},{}\".format(overall_windowdiff, overall_pk, i, i))\n",
    "\n",
    "    print(string_predictions)\n",
    "    print(string_ground_truth)"
   ]
  },
  {
   "cell_type": "code",
   "execution_count": null,
   "id": "e6522c61",
   "metadata": {},
   "outputs": [],
   "source": [
    "[float(p) for p in predictions], saved_labels"
   ]
  },
  {
   "cell_type": "code",
   "execution_count": null,
   "id": "c477883e",
   "metadata": {},
   "outputs": [],
   "source": []
  }
 ],
 "metadata": {
  "kernelspec": {
   "display_name": "Python [conda env:phd] *",
   "language": "python",
   "name": "conda-env-phd-py"
  },
  "language_info": {
   "codemirror_mode": {
    "name": "ipython",
    "version": 3
   },
   "file_extension": ".py",
   "mimetype": "text/x-python",
   "name": "python",
   "nbconvert_exporter": "python",
   "pygments_lexer": "ipython3",
   "version": "3.6.13"
  }
 },
 "nbformat": 4,
 "nbformat_minor": 5
}
